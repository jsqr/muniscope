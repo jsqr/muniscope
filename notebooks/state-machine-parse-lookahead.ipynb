{
 "cells": [
  {
   "cell_type": "code",
   "execution_count": 86,
   "metadata": {},
   "outputs": [
    {
     "name": "stdout",
     "output_type": "stream",
     "text": [
      "Note: you may need to restart the kernel to use updated packages.\n"
     ]
    }
   ],
   "source": [
    "%pip install -qU more_itertools"
   ]
  },
  {
   "cell_type": "markdown",
   "metadata": {},
   "source": [
    "## 1. State machine parser\n",
    "\n",
    "Because the outline structure is so simple, it's feasible to implement a parser using a hand-coded state machine that\n",
    "shifts between states according to the level of the outline. This may be a simpler approach than specifying a\n",
    "BNF-style grammar for Lark or a similar parser generator, because in some cases outlines skip levels, which would\n",
    "complicate the formal grammar."
   ]
  },
  {
   "cell_type": "code",
   "execution_count": 100,
   "metadata": {},
   "outputs": [],
   "source": [
    "from enum import Enum\n",
    "from typing import List, Dict, Iterator\n",
    "from dataclasses import dataclass, field\n",
    "from itertools import tee\n",
    "from more_itertools import spy\n",
    "import re"
   ]
  },
  {
   "cell_type": "code",
   "execution_count": 88,
   "metadata": {},
   "outputs": [],
   "source": [
    "class Level(Enum):\n",
    "    H0 = 0 # top level (initial state)\n",
    "    H1 = 1\n",
    "    H2 = 2\n",
    "    H3 = 3\n",
    "\n",
    "@dataclass\n",
    "class HeadingPattern:\n",
    "    level: Level\n",
    "    regex: str # pattern matching the first line of the heading\n",
    "    multi_line: bool # whether the heading spans multiple lines\n",
    "\n",
    "@dataclass\n",
    "class Heading:\n",
    "    level: Level\n",
    "    # heading_type: str # e.g. \"section\", \"subsection\", \"article\", \"chapter\"\n",
    "    enumeration: str # number or letter (e.g. \"1\", \"a\", \"i\", \"A\", \"XVII\")\n",
    "    heading_text: str\n",
    "\n",
    "@dataclass\n",
    "class Segment:\n",
    "    level: Level\n",
    "    headings: Dict[Level, Heading|None] = field(default_factory=dict)\n",
    "    body: List[str] = field(default_factory=list) # list of paragraphs\n",
    "\n",
    "## For our purposes, a document is just a list of segments -- the structure is\n",
    "## implicit in the headings, which will be uploaded to a relational database"
   ]
  },
  {
   "cell_type": "code",
   "execution_count": 89,
   "metadata": {},
   "outputs": [],
   "source": [
    "def seek_first_nonempty_line(line_iter: Iterator[str]) -> Iterator[str]:\n",
    "    \"\"\"Advance the iterator until a non-empty line is found. The start of the iterator\n",
    "    should be that non-empty line\"\"\"\n",
    "    for i in range(5):\n",
    "        try:\n",
    "            (next_line,), line_iter = spy(line_iter) # peek at the next line\n",
    "        except ValueError: # no more lines\n",
    "            return iter([])\n",
    "        if next_line.strip() == \"\":\n",
    "            next(line_iter)\n",
    "        else:\n",
    "            break\n",
    "\n",
    "    return line_iter\n",
    "\n",
    "test_lines = [\"foo\", \"bar\"]\n",
    "assert list(seek_first_nonempty_line(iter(test_lines))) == [\"foo\", \"bar\"]\n",
    "test_lines2 = [\"\", \"\", \"foo\", \"bar\"]\n",
    "assert list(seek_first_nonempty_line(iter(test_lines2))) == [\"foo\", \"bar\"]\n",
    "test_empty_lines = [\"\", \"\", \"\", \"\"]\n",
    "assert list(seek_first_nonempty_line(iter(test_empty_lines))) == []"
   ]
  },
  {
   "cell_type": "code",
   "execution_count": 90,
   "metadata": {},
   "outputs": [],
   "source": [
    "def get_paragraph(line_iter: Iterator[str]) -> str | None:\n",
    "    \"\"\"Skip empty lines and return the next paragraph.\"\"\"\n",
    "    paragraph = \"\"\n",
    "\n",
    "    line_iter = seek_first_nonempty_line(line_iter)\n",
    "    try:\n",
    "        line = next(line_iter)\n",
    "    except StopIteration:\n",
    "        return None\n",
    "\n",
    "    # read the paragraph\n",
    "    paragraph += line + \"\\n\"\n",
    "    while True:\n",
    "        try:\n",
    "            line = next(line_iter)\n",
    "            line = line.strip()\n",
    "        except StopIteration:\n",
    "            break\n",
    "        if line.strip() == \"\":\n",
    "            break\n",
    "        paragraph += line + \"\\n\"\n",
    "\n",
    "    #return paragraph if paragraph.strip() else None\n",
    "    return paragraph\n",
    "\n",
    "test_paragraphs = [\n",
    "    \"\",\n",
    "    \"This is a\",\n",
    "    \"paragraph.\",\n",
    "    \"\",\n",
    "    \"This is another\"\n",
    "]\n",
    "assert get_paragraph(iter(test_paragraphs)) == \"This is a\\nparagraph.\\n\"\n",
    "assert get_paragraph(iter([\"\"])) == None"
   ]
  },
  {
   "cell_type": "code",
   "execution_count": 101,
   "metadata": {},
   "outputs": [],
   "source": [
    "def match_heading(line_iter: Iterator[str], patterns: Dict[Level, HeadingPattern]) -> Heading | None:\n",
    "    \"\"\"For each patern in `patterns`, check if the next line matches (e.g., pattern r'^Chapter [IVXLC]+'\n",
    "    matches 'Chapter VII'). If a match is found, return a Heading object. Otherwise, return None.\n",
    "    The iterator should be advanced to the next line after the heading after a match.\"\"\"\n",
    "    \n",
    "    line_iter, line_iter2 = tee(line_iter)\n",
    "    line_iter2 = seek_first_nonempty_line(line_iter2)\n",
    "    # peek at the next line\n",
    "    try:\n",
    "        (line,), line_iter2 = spy(line_iter2) # peek at the next line\n",
    "        line = line.strip()\n",
    "        print(f\"spy: {line}\")\n",
    "    except ValueError: # no more lines\n",
    "        print(\"no more lines\")\n",
    "        return None\n",
    "    \n",
    "    #try:\n",
    "    #    line = next(line_iter)\n",
    "    #    line = line.strip()\n",
    "    #except StopIteration:\n",
    "    #    return None\n",
    "    \n",
    "    for level, pattern in patterns.items():\n",
    "        match = re.match(pattern.regex, line)\n",
    "        print(f\"pre-advance line: {line}, pattern: {pattern.regex}, match: {match}\")\n",
    "        if match:\n",
    "            line_iter = seek_first_nonempty_line(line_iter)\n",
    "            print(\"advancing...\")\n",
    "            line = next(line_iter) # have to advance the iterator since we used spy() above\n",
    "            print(f\"...line: {line}\")\n",
    "            if not pattern.multi_line:\n",
    "                return Heading(level=level, enumeration=match.group(1), heading_text=match.group(2))\n",
    "            else:\n",
    "                text = get_paragraph(line_iter) # in the multi-line case, the heading text is the rest of the paragraph\n",
    "                text = text.strip() if text else \"\"\n",
    "                return Heading(level=level, enumeration=match.group(1), heading_text=text)\n"
   ]
  },
  {
   "cell_type": "code",
   "execution_count": null,
   "metadata": {},
   "outputs": [
    {
     "name": "stdout",
     "output_type": "stream",
     "text": [
      "spy: Chapter VII: The Final Chapter\n",
      "pre-advance line: Chapter VII: The Final Chapter, pattern: ^Chapter ([IVXLC]+): (.+)$, match: <re.Match object; span=(0, 30), match='Chapter VII: The Final Chapter'>\n",
      "advancing...\n",
      "...line: Chapter VII: The Final Chapter\n",
      "spy: Chapter 7:\n",
      "pre-advance line: Chapter 7:, pattern: ^Chapter (\\d+):$, match: <re.Match object; span=(0, 10), match='Chapter 7:'>\n",
      "advancing...\n",
      "...line: Chapter 7:\n",
      "X\n",
      "spy: This is the first paragraph of the chapter.\n",
      "pre-advance line: This is the first paragraph of the chapter., pattern: ^Chapter (\\d+):$, match: None\n",
      "Y\n",
      "no more lines\n",
      "Z\n",
      "None\n"
     ]
    }
   ],
   "source": [
    "## Tests\n",
    "test_doc1 = [\"Chapter VII: The Final Chapter\", \"\", \"This is the first paragraph of the chapter.\"]\n",
    "test_pattern1 = HeadingPattern(level=Level.H1, regex=r'^Chapter ([IVXLC]+): (.+)$', multi_line=False)\n",
    "test_doc2 = [\"\", \"Chapter 7:\", \"The Final Chapter\", \"\", \"This is the first paragraph of the chapter.\"]\n",
    "test_pattern2 = HeadingPattern(level=Level.H1, regex=r'^Chapter (\\d+):$', multi_line=True)\n",
    "\n",
    "test_doc1_iter = iter(test_doc1)\n",
    "assert match_heading(test_doc1_iter, {Level.H1: test_pattern1}) == \\\n",
    "    Heading(level=Level.H1, enumeration=\"VII\", heading_text=\"The Final Chapter\")\n",
    "assert get_paragraph(test_doc1_iter) == \"This is the first paragraph of the chapter.\\n\"\n",
    "\n",
    "test_doc2_iter = iter(test_doc2)\n",
    "assert match_heading(test_doc2_iter, {Level.H1: test_pattern2}) == \\\n",
    "    Heading(level=Level.H1, enumeration=\"7\", heading_text=\"The Final Chapter\")\n",
    "print(\"X\")\n",
    "assert match_heading(test_doc2_iter, {Level.H1: test_pattern2}) == None\n",
    "print(\"Y\")\n",
    "assert match_heading(test_doc2_iter, {Level.H1: test_pattern2}) == None\n",
    "print(\"Z\")\n",
    "print(get_paragraph(test_doc2_iter)) # should print \"This is the first paragraph of the chapter.\"\n",
    "\n",
    "## FIXME - there's a bug here which is advancing the iterator after a failed match"
   ]
  },
  {
   "cell_type": "code",
   "execution_count": 37,
   "metadata": {},
   "outputs": [],
   "source": [
    "\n",
    "class StateMachineParser:\n",
    "    def __init__(self, document_name: str, heading_patterns: Dict[Level, HeadingPattern]):\n",
    "        self.document = []\n",
    "        self.heading_names = {Level.H0: document_name, Level.H1: None, Level.H2: None, Level.H3: None}\n",
    "        self.patterns = heading_patterns\n",
    "        self.state = Level.H0\n",
    "\n",
    "    def parse(self, text):\n",
    "        lines = text.split('\\n')\n",
    "        line_iter = iter(lines)\n",
    "\n",
    "        segment_headings = {Level.H0: self.heading_names[Level.H0]}\n",
    "        segment = Segment(level=Level.H0, headings=segment_headings, body=[]) # preamble\n",
    "\n",
    "        while True:\n",
    "            # check for a heading (skipping empty lines)\n",
    "            match = match_heading(line_iter, self.patterns)\n",
    "            print(f\"* Checking for heading match: {match}\")\n",
    "\n",
    "            # no heading found, so add a paragraph to the current segment\n",
    "            if not match:\n",
    "                paragraph = get_paragraph(line_iter)\n",
    "                if paragraph:\n",
    "                    print(f\"* Found paragraph: {paragraph}\")\n",
    "                    segment.body.append(paragraph)\n",
    "                    continue\n",
    "                else:\n",
    "                    break\n",
    "\n",
    "            # found a heading!\n",
    "            print(f\"* Found heading; appending segment {segment}\\n\")\n",
    "            self.document.append(segment) # add the last segment to document\n",
    "\n",
    "            print(f\"* New heading: {match}\")\n",
    "            self.state = match.level\n",
    "            new_headings = segment.headings.copy()\n",
    "            new_headings[match.level] = match\n",
    "            for level in Level: # have to delete the headings at higher levels in case of skips later\n",
    "                if level.value in new_headings and level.value > match.level.value:\n",
    "                    del new_headings[level]\n",
    "            segment = Segment(level=self.state, headings=new_headings, body=[]) # start a new segment\n",
    "    \n",
    "    def _str_segment(self, segment: Segment) -> str:\n",
    "        \n",
    "        heading = segment.headings[segment.level]\n",
    "        heading_str = f\"Heading {heading.level} {heading.enumeration}: {heading.heading_text}\" if heading else \"\"\n",
    "        return f\"{heading_str}\\n\\n{segment.body}\"\n",
    "\n",
    "    def __str__(self):\n",
    "        return \"\\n\\n\".join([self._str_segment(segment) for segment in self.document])\n"
   ]
  },
  {
   "cell_type": "markdown",
   "metadata": {},
   "source": [
    "## 2. Try it out"
   ]
  },
  {
   "cell_type": "code",
   "execution_count": 33,
   "metadata": {},
   "outputs": [],
   "source": [
    "snippet2 = \"\"\"\n",
    "preamble paragraph\n",
    "\n",
    "TITLE 1\n",
    "Title to 1\n",
    "\n",
    "Here is some text in 1\n",
    "Second line of the first paragraph in 1\n",
    "\n",
    "CHAPTER 1-1\n",
    "Chapter 1-1\n",
    "\n",
    "Here is some text in 1-1\n",
    "\n",
    "1-1-010 Section 1-1-010\n",
    "\n",
    "Here is some text in 1-1-010\n",
    "\n",
    "Second paragraph of 1-1-010\n",
    "\n",
    "1-1-020 Section 1-1-020\n",
    "\n",
    "Here is some text in 1-1-020\n",
    "\n",
    "Second paragraph of 1-1-020\n",
    "\n",
    "CHAPTER 1-2\n",
    "Chapter 1-2\n",
    "\n",
    "Here is some text in 1-2\n",
    "\n",
    "1-2-010 Section 1-2-010\n",
    "\n",
    "Here is some text in 1-2-010\n",
    "\n",
    "1-2-020 Section 1-2-020\n",
    "\n",
    "Here is some text in 1-2-020\n",
    "\n",
    "TITLE 2\n",
    "Title to 2\n",
    "\n",
    "Here is some text in 2\n",
    "\n",
    "\"\"\""
   ]
  },
  {
   "cell_type": "code",
   "execution_count": 34,
   "metadata": {},
   "outputs": [],
   "source": [
    "patterns = {\n",
    "    Level.H1: HeadingPattern(level=Level.H1, regex=r'^TITLE (\\d+)$', multi_line=True),\n",
    "    Level.H2: HeadingPattern(level=Level.H2, regex=r'^CHAPTER (\\d+-\\d+)$', multi_line=True),\n",
    "    Level.H3: HeadingPattern(level=Level.H3, regex=r'^(\\d+-\\d+-\\d+) (.+)', multi_line=False)\n",
    "}\n",
    "\n",
    "# TESTS: make sure the patterns are working\n",
    "title1 = \"TITLE 1\\nTitle to 1\\n\\nHere is some text in 1\\nSecond line of the first paragraph in 1\"\n",
    "chapter1_1 = \"\\nCHAPTER 1-1\\nChapter 1-1\\n\\nHere is some text in 1-1\"\n",
    "section1_1_010 = \"\\n\\n1-1-010 Section 1-1-010\\n\\nHere is some text in 1-1-010\\n\\nSecond paragraph of 1-1-010\"\n",
    "\n",
    "assert match_heading(iter(title1.split('\\n')), {Level.H1: patterns[Level.H1]}) == \\\n",
    "    Heading(level=Level.H1, enumeration=\"1\", heading_text=\"Title to 1\")\n",
    "assert match_heading(iter(chapter1_1.split('\\n')), {Level.H2: patterns[Level.H2]}) == \\\n",
    "    Heading(level=Level.H2, enumeration=\"1-1\", heading_text=\"Chapter 1-1\")\n",
    "assert match_heading(iter(section1_1_010.split('\\n')), {Level.H3: patterns[Level.H3]}) == \\\n",
    "    Heading(level=Level.H3, enumeration=\"1-1-010\", heading_text=\"Section 1-1-010\")"
   ]
  },
  {
   "cell_type": "code",
   "execution_count": 46,
   "metadata": {},
   "outputs": [
    {
     "data": {
      "text/plain": [
       "'Title to 1'"
      ]
     },
     "execution_count": 46,
     "metadata": {},
     "output_type": "execute_result"
    }
   ],
   "source": [
    "lines2_iter = iter(snippet2.split('\\n'))\n",
    "match = match_heading(lines2_iter, patterns)\n",
    "#print(list(lines2_iter)[1])\n",
    "list(seek_first_nonempty_line(lines2_iter))[1]"
   ]
  },
  {
   "cell_type": "code",
   "execution_count": 35,
   "metadata": {},
   "outputs": [
    {
     "name": "stdout",
     "output_type": "stream",
     "text": [
      "* Checking for heading match: None\n",
      "* No heading found\n",
      "* Found paragraph: TITLE 1\n",
      "Title to 1\n",
      "\n",
      "* Checking for heading match: None\n",
      "* No heading found\n",
      "* Found paragraph: Second line of the first paragraph in 1\n",
      "\n",
      "* Checking for heading match: Heading(level=<Level.H2: 2>, enumeration='1-1', heading_text='Chapter 1-1')\n",
      "* Found heading; appending segment Segment(level=<Level.H0: 0>, headings={<Level.H0: 0>: 'snippet2'}, body=['TITLE 1\\nTitle to 1\\n', 'Second line of the first paragraph in 1\\n'])\n",
      "\n",
      "* New heading: Heading(level=<Level.H2: 2>, enumeration='1-1', heading_text='Chapter 1-1')\n",
      "* Checking for heading match: None\n",
      "* No heading found\n",
      "* Found paragraph: 1-1-010 Section 1-1-010\n",
      "\n",
      "* Checking for heading match: None\n",
      "* No heading found\n",
      "* Found paragraph: Second paragraph of 1-1-010\n",
      "\n",
      "* Checking for heading match: Heading(level=<Level.H3: 3>, enumeration='1-1-020', heading_text='Section 1-1-020')\n",
      "* Found heading; appending segment Segment(level=<Level.H2: 2>, headings={<Level.H0: 0>: 'snippet2', <Level.H2: 2>: Heading(level=<Level.H2: 2>, enumeration='1-1', heading_text='Chapter 1-1')}, body=['1-1-010 Section 1-1-010\\n', 'Second paragraph of 1-1-010\\n'])\n",
      "\n",
      "* New heading: Heading(level=<Level.H3: 3>, enumeration='1-1-020', heading_text='Section 1-1-020')\n",
      "* Checking for heading match: None\n",
      "* No heading found\n",
      "* Found paragraph: Second paragraph of 1-1-020\n",
      "\n",
      "* Checking for heading match: Heading(level=<Level.H2: 2>, enumeration='1-2', heading_text='Chapter 1-2')\n",
      "* Found heading; appending segment Segment(level=<Level.H3: 3>, headings={<Level.H0: 0>: 'snippet2', <Level.H2: 2>: Heading(level=<Level.H2: 2>, enumeration='1-1', heading_text='Chapter 1-1'), <Level.H3: 3>: Heading(level=<Level.H3: 3>, enumeration='1-1-020', heading_text='Section 1-1-020')}, body=['Second paragraph of 1-1-020\\n'])\n",
      "\n",
      "* New heading: Heading(level=<Level.H2: 2>, enumeration='1-2', heading_text='Chapter 1-2')\n",
      "* Checking for heading match: None\n",
      "* No heading found\n",
      "* Found paragraph: 1-2-010 Section 1-2-010\n",
      "\n",
      "* Checking for heading match: None\n",
      "* No heading found\n",
      "* Found paragraph: 1-2-020 Section 1-2-020\n",
      "\n",
      "* Checking for heading match: None\n",
      "* No heading found\n",
      "* Found paragraph: TITLE 2\n",
      "Title to 2\n",
      "\n",
      "* Checking for heading match: None\n",
      "* No heading found\n"
     ]
    }
   ],
   "source": [
    "# parse the whole snippet\n",
    "parser = StateMachineParser(\"snippet2\", patterns)\n",
    "parser.parse(snippet2)"
   ]
  },
  {
   "cell_type": "code",
   "execution_count": 36,
   "metadata": {},
   "outputs": [
    {
     "name": "stdout",
     "output_type": "stream",
     "text": [
      "Segment(level=<Level.H0: 0>, headings={<Level.H0: 0>: 'snippet2'}, body=['TITLE 1\\nTitle to 1\\n', 'Second line of the first paragraph in 1\\n'])\n",
      "\n",
      "Segment(level=<Level.H2: 2>, headings={<Level.H0: 0>: 'snippet2', <Level.H2: 2>: Heading(level=<Level.H2: 2>, enumeration='1-1', heading_text='Chapter 1-1')}, body=['1-1-010 Section 1-1-010\\n', 'Second paragraph of 1-1-010\\n'])\n",
      "\n",
      "Segment(level=<Level.H3: 3>, headings={<Level.H0: 0>: 'snippet2', <Level.H2: 2>: Heading(level=<Level.H2: 2>, enumeration='1-1', heading_text='Chapter 1-1'), <Level.H3: 3>: Heading(level=<Level.H3: 3>, enumeration='1-1-020', heading_text='Section 1-1-020')}, body=['Second paragraph of 1-1-020\\n'])\n",
      "\n"
     ]
    }
   ],
   "source": [
    "for s in parser.document:\n",
    "    print(s)\n",
    "    print()"
   ]
  },
  {
   "cell_type": "code",
   "execution_count": null,
   "metadata": {},
   "outputs": [],
   "source": []
  }
 ],
 "metadata": {
  "kernelspec": {
   "display_name": "venv",
   "language": "python",
   "name": "python3"
  },
  "language_info": {
   "codemirror_mode": {
    "name": "ipython",
    "version": 3
   },
   "file_extension": ".py",
   "mimetype": "text/x-python",
   "name": "python",
   "nbconvert_exporter": "python",
   "pygments_lexer": "ipython3",
   "version": "3.12.7"
  }
 },
 "nbformat": 4,
 "nbformat_minor": 2
}
