{
 "cells": [
  {
   "cell_type": "code",
   "execution_count": null,
   "metadata": {},
   "outputs": [],
   "source": [
    "%pip install -qU openai marvin\n",
    "%pip install -qU \"psycopg[binary]\""
   ]
  },
  {
   "cell_type": "markdown",
   "metadata": {},
   "source": [
    "## Getting ready\n",
    "\n",
    "Begin by:\n",
    "1. creating a new directory `data/<jurisdiction>` and populate with one or more\n",
    "docx files containing the jurisdiction's municipal code\n",
    "2. run `scripts/convert_docx.sh` to convert those files into a single text file\n",
    "3. make a copy of `notebooks/template-workflow.ipynb` to `notebooks/<jurisdiction>.ipynb`\n",
    "and continue processing in that notebook"
   ]
  },
  {
   "cell_type": "code",
   "execution_count": null,
   "metadata": {},
   "outputs": [],
   "source": [
    "import sys\n",
    "sys.path.insert(0, '..')\n",
    "\n",
    "## set up auto-reloading for development\n",
    "%reload_ext autoreload\n",
    "%autoreload 2"
   ]
  },
  {
   "cell_type": "markdown",
   "metadata": {},
   "source": [
    "## Specify heading patterns"
   ]
  },
  {
   "cell_type": "markdown",
   "metadata": {},
   "source": [
    "Replace the `jurisdiction_headings` dict with examples from your jurisdiction"
   ]
  },
  {
   "cell_type": "code",
   "execution_count": null,
   "metadata": {},
   "outputs": [],
   "source": [
    "from muni.code import Level, Jurisdiction"
   ]
  },
  {
   "cell_type": "code",
   "execution_count": null,
   "metadata": {},
   "outputs": [],
   "source": [
    "heading_examples = {\n",
    "    Level.H1: [\"TITLE 1\\nGENERAL PROVISION\\n\",\n",
    "              \"TITLE 2\\nCITY GOVERNMENT AND ADMINISTRATION\\n\",\n",
    "              \"TITLE 3\\nREVENUE AND FINANCE\\n\",\n",
    "    ],\n",
    "    Level.H2: [\"CHAPTER 1-4\\nCODE ADOPTION - ORGANIZATION\\n\",\n",
    "              \"CHAPTER 1-8\\nCITY SEAL AND FLAG\\n\",\n",
    "              \"CHAPTER 1-12\\nCITY EMBLEMS\\n\",\n",
    "     ],\n",
    "    Level.H3: [\"1-4-010 Municipal Code of Chicago adopted.\\n\",\n",
    "              \"2-1-020 Code to be kept up-to-date.\\n\",\n",
    "              \"3-4-030 Official copy on file.\\n\",\n",
    "      ],\n",
    "}"
   ]
  },
  {
   "cell_type": "code",
   "execution_count": null,
   "metadata": {},
   "outputs": [],
   "source": [
    "from muni.code import infer_heading_patterns, infer_level_names"
   ]
  },
  {
   "cell_type": "code",
   "execution_count": null,
   "metadata": {},
   "outputs": [],
   "source": [
    "## Verify that the regular expressions matching outline levels look okay\n",
    "heading_patterns = infer_heading_patterns(heading_examples)\n",
    "for level, pattern in heading_patterns.items():\n",
    "    print(f\"{level.name}: r'{pattern.regex}'\")\n",
    "\n",
    "print()\n",
    "\n",
    "## Verify that the names of the sections look okay\n",
    "level_names = infer_level_names(heading_patterns)\n",
    "for level, name in level_names.items():\n",
    "    print(f\"{level.name}: {name}\")"
   ]
  },
  {
   "cell_type": "markdown",
   "metadata": {},
   "source": [
    "## Specify the parameters of the jurisdiction and parse the code"
   ]
  },
  {
   "cell_type": "code",
   "execution_count": null,
   "metadata": {},
   "outputs": [],
   "source": [
    "from muni.code import StateMachineParser\n",
    "\n",
    "place = Jurisdiction(\n",
    "    name=\"Chicago Mini\",\n",
    "    patterns=heading_patterns,\n",
    "    level_names=level_names,\n",
    "    source_local=\"../data/chicago-mini/code.txt\",\n",
    "    source_url=\"https://www.chicago.gov/city/en/depts/doit/supp_info/municipal_code.html\",\n",
    ")\n",
    "\n",
    "place.parser = StateMachineParser(document_name=place.name + \" Code\",\n",
    "                                  heading_patterns=place.patterns)"
   ]
  },
  {
   "cell_type": "code",
   "execution_count": null,
   "metadata": {},
   "outputs": [],
   "source": [
    "## Verify that the outline looks okay\n",
    "place.parser.summarize_matches(place.raw_text)"
   ]
  },
  {
   "cell_type": "code",
   "execution_count": null,
   "metadata": {},
   "outputs": [],
   "source": [
    "place.document = place.parser.parse(place.raw_text)"
   ]
  },
  {
   "cell_type": "code",
   "execution_count": null,
   "metadata": {},
   "outputs": [],
   "source": [
    "## Verify that the distribution of paragraphs looks okay\n",
    "from muni.code import summarize_document\n",
    "summarize_document(place.document)"
   ]
  },
  {
   "cell_type": "code",
   "execution_count": null,
   "metadata": {},
   "outputs": [],
   "source": [
    "from muni.code import chunkify_document, summarize_chunks\n",
    "chunkify_document(place.document, 1000)\n",
    "summarize_chunks(place.document)"
   ]
  },
  {
   "cell_type": "markdown",
   "metadata": {},
   "source": [
    "## Upload data to the database"
   ]
  },
  {
   "cell_type": "code",
   "execution_count": null,
   "metadata": {},
   "outputs": [],
   "source": [
    "from muni.code import upload\n",
    "\n",
    "db = {'dbname': 'muni',\n",
    "      'user': 'muni',\n",
    "      'password': 'muni',\n",
    "      'host': 'localhost',\n",
    "      'port': 5432}\n",
    "\n",
    "upload(db, place)\n",
    "# TODO: changing DB schema"
   ]
  },
  {
   "cell_type": "markdown",
   "metadata": {},
   "source": [
    "## Find associations among sections"
   ]
  },
  {
   "cell_type": "code",
   "execution_count": null,
   "metadata": {},
   "outputs": [],
   "source": [
    "from muni.code import find_associations\n",
    "\n",
    "find_associations(db, place)\n",
    "# TODO: changing DB schema"
   ]
  },
  {
   "cell_type": "markdown",
   "metadata": {},
   "source": [
    "## Queries & reports"
   ]
  },
  {
   "cell_type": "code",
   "execution_count": null,
   "metadata": {},
   "outputs": [],
   "source": [
    "from muni.code import connection, hybrid_query #, report\n",
    "\n",
    "queries = ['Does the municipal code contain provisions restricting the use of drug paraphernalia?']\n",
    "\n",
    "## FIXME: changing DB schema\n",
    "#with connection(db) as conn:\n",
    "#    results = [hybrid_query(conn, query) for query in queries]\n",
    "#    reports = [report(conn, query) for query in queries]"
   ]
  },
  {
   "cell_type": "markdown",
   "metadata": {},
   "source": [
    "## Upload results to database"
   ]
  },
  {
   "cell_type": "code",
   "execution_count": null,
   "metadata": {},
   "outputs": [],
   "source": [
    "## TODO"
   ]
  }
 ],
 "metadata": {
  "kernelspec": {
   "display_name": "venv",
   "language": "python",
   "name": "python3"
  },
  "language_info": {
   "codemirror_mode": {
    "name": "ipython",
    "version": 3
   },
   "file_extension": ".py",
   "mimetype": "text/x-python",
   "name": "python",
   "nbconvert_exporter": "python",
   "pygments_lexer": "ipython3",
   "version": "3.12.7"
  }
 },
 "nbformat": 4,
 "nbformat_minor": 2
}
