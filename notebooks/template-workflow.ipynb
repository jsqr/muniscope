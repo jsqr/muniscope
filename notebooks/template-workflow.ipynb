{
 "cells": [
  {
   "cell_type": "code",
   "execution_count": null,
   "metadata": {},
   "outputs": [],
   "source": [
    "%pip install -qU openai marvin\n",
    "%pip install -qU \"psycopg[binary]\""
   ]
  },
  {
   "cell_type": "markdown",
   "metadata": {},
   "source": [
    "## Getting ready\n",
    "\n",
    "Begin by:\n",
    "1. creating a new directory `data/<jurisdiction>` and populate with one or more\n",
    "docx files containing the jurisdiction's municipal code\n",
    "2. run `scripts/convert_docx.sh` to convert those files into a single text file\n",
    "3. make a copy of `notebooks/template-workflow.ipynb` to `notebooks/<jurisdiction>.ipynb`\n",
    "and continue processing in that notebook"
   ]
  },
  {
   "cell_type": "code",
   "execution_count": 16,
   "metadata": {},
   "outputs": [],
   "source": [
    "import sys\n",
    "sys.path.insert(0, '..')\n",
    "\n",
    "## set up auto-reloading for development\n",
    "%reload_ext autoreload\n",
    "%autoreload 2"
   ]
  },
  {
   "cell_type": "markdown",
   "metadata": {},
   "source": [
    "## Specify heading patterns"
   ]
  },
  {
   "cell_type": "markdown",
   "metadata": {},
   "source": [
    "Replace the `jurisdiction_headings` dict with examples from your jurisdiction"
   ]
  },
  {
   "cell_type": "code",
   "execution_count": 17,
   "metadata": {},
   "outputs": [],
   "source": [
    "from muni.code import Jurisdiction"
   ]
  },
  {
   "cell_type": "code",
   "execution_count": null,
   "metadata": {},
   "outputs": [],
   "source": [
    "from openai import OpenAI\n",
    "client = OpenAI()\n",
    "\n",
    "response = client.embeddings.create(\n",
    "  input=\"It was the best of times, it was the worst of times.\",\n",
    "  model=\"text-embedding-3-small\"\n",
    ")\n",
    "\n",
    "print(response.data[0].embedding)"
   ]
  },
  {
   "cell_type": "code",
   "execution_count": 19,
   "metadata": {},
   "outputs": [],
   "source": [
    "heading_examples = {\n",
    "    1: [\"TITLE 1\\nGENERAL PROVISION\\n\",\n",
    "        \"TITLE 2\\nCITY GOVERNMENT AND ADMINISTRATION\\n\",\n",
    "        \"TITLE 3\\nREVENUE AND FINANCE\\n\",\n",
    "        ],\n",
    "    2: [\"CHAPTER 1-4\\nCODE ADOPTION - ORGANIZATION\\n\",\n",
    "        \"CHAPTER 1-8\\nCITY SEAL AND FLAG\\n\",\n",
    "        \"CHAPTER 1-12\\nCITY EMBLEMS\\n\",\n",
    "        ],\n",
    "    3: [\"1-4-010 Municipal Code of Chicago adopted.\\n\",\n",
    "        \"2-1-020 Code to be kept up-to-date.\\n\",\n",
    "        \"3-4-030 Official copy on file.\\n\",\n",
    "        ],\n",
    "}"
   ]
  },
  {
   "cell_type": "code",
   "execution_count": 20,
   "metadata": {},
   "outputs": [],
   "source": [
    "from muni.code import infer_heading_patterns, infer_level_names"
   ]
  },
  {
   "cell_type": "code",
   "execution_count": null,
   "metadata": {},
   "outputs": [],
   "source": [
    "## Verify that the regular expressions matching outline levels look okay\n",
    "heading_patterns = infer_heading_patterns(heading_examples)\n",
    "for level, pattern in heading_patterns.items():\n",
    "    print(f\"{level}: r'{pattern.regex}'\")\n",
    "\n",
    "print()\n",
    "\n",
    "## Verify that the names of the sections look okay\n",
    "level_names = infer_level_names(heading_patterns)\n",
    "for level, name in level_names.items():\n",
    "    print(f\"{level}: {name}\")"
   ]
  },
  {
   "cell_type": "markdown",
   "metadata": {},
   "source": [
    "## Specify the parameters of the jurisdiction and parse the code"
   ]
  },
  {
   "cell_type": "code",
   "execution_count": 22,
   "metadata": {},
   "outputs": [],
   "source": [
    "place = Jurisdiction(\n",
    "    name=\"Chicago Mini\",\n",
    "    title=\"Municipal Code of Chicago\",\n",
    "    patterns=heading_patterns,\n",
    "    level_names=level_names,\n",
    "    source_local=\"../data/chicago-mini/code.txt\",\n",
    "    source_url=\"https://www.chicago.gov/city/en/depts/doit/supp_info/municipal_code.html\",\n",
    ")\n",
    "\n",
    "place.parse()\n",
    "place.chunkify(1000)"
   ]
  },
  {
   "cell_type": "code",
   "execution_count": null,
   "metadata": {},
   "outputs": [],
   "source": [
    "## Verify that the distribution of paragraphs and chunks looks okay\n",
    "place.summarize()"
   ]
  },
  {
   "cell_type": "markdown",
   "metadata": {},
   "source": [
    "## Upload data to the database"
   ]
  },
  {
   "cell_type": "code",
   "execution_count": 24,
   "metadata": {},
   "outputs": [],
   "source": [
    "from muni.code import upload\n",
    "\n",
    "db = {'dbname': 'muni',\n",
    "      'user': 'muni',\n",
    "      'password': '',\n",
    "      'host': 'localhost',\n",
    "      'port': 5432}\n",
    "\n",
    "upload(db, place)"
   ]
  },
  {
   "cell_type": "code",
   "execution_count": 25,
   "metadata": {},
   "outputs": [],
   "source": [
    "from muni.code import upload_embeddings\n",
    "\n",
    "upload_embeddings(db, place)"
   ]
  },
  {
   "cell_type": "markdown",
   "metadata": {},
   "source": [
    "## Find associations among sections"
   ]
  },
  {
   "cell_type": "code",
   "execution_count": 26,
   "metadata": {},
   "outputs": [],
   "source": [
    "from muni.code import find_associations\n",
    "\n",
    "find_associations(db, place)\n",
    "# TODO: changing DB schema"
   ]
  },
  {
   "cell_type": "markdown",
   "metadata": {},
   "source": [
    "## Queries & reports"
   ]
  },
  {
   "cell_type": "code",
   "execution_count": 27,
   "metadata": {},
   "outputs": [],
   "source": [
    "from muni.code import connection, hybrid_query #, report\n",
    "\n",
    "queries = ['Does the municipal code contain provisions restricting the use of drug paraphernalia?']\n",
    "\n",
    "## FIXME: changing DB schema\n",
    "#with connection(db) as conn:\n",
    "#    results = [hybrid_query(conn, query) for query in queries]\n",
    "#    reports = [report(conn, query) for query in queries]"
   ]
  },
  {
   "cell_type": "markdown",
   "metadata": {},
   "source": [
    "## Upload results to database"
   ]
  },
  {
   "cell_type": "code",
   "execution_count": 28,
   "metadata": {},
   "outputs": [],
   "source": [
    "## TODO"
   ]
  },
  {
   "cell_type": "code",
   "execution_count": 29,
   "metadata": {},
   "outputs": [
    {
     "data": {
      "text/markdown": [
       "# This is a heading\n",
       "\n",
       "This is some **bold** text and this is *italic* text."
      ],
      "text/plain": [
       "<IPython.core.display.Markdown object>"
      ]
     },
     "metadata": {},
     "output_type": "display_data"
    }
   ],
   "source": [
    "from IPython.display import Markdown, display\n",
    "\n",
    "def print_markdown(text):\n",
    "    display(Markdown(text))\n",
    "\n",
    "# Example usage\n",
    "print_markdown(\"# This is a heading\\n\\nThis is some **bold** text and this is *italic* text.\")"
   ]
  },
  {
   "cell_type": "code",
   "execution_count": null,
   "metadata": {},
   "outputs": [],
   "source": []
  }
 ],
 "metadata": {
  "kernelspec": {
   "display_name": "venv",
   "language": "python",
   "name": "python3"
  },
  "language_info": {
   "codemirror_mode": {
    "name": "ipython",
    "version": 3
   },
   "file_extension": ".py",
   "mimetype": "text/x-python",
   "name": "python",
   "nbconvert_exporter": "python",
   "pygments_lexer": "ipython3",
   "version": "3.12.8"
  }
 },
 "nbformat": 4,
 "nbformat_minor": 2
}
