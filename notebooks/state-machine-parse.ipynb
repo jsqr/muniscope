{
 "cells": [
  {
   "cell_type": "code",
   "execution_count": 12,
   "metadata": {},
   "outputs": [
    {
     "name": "stdout",
     "output_type": "stream",
     "text": [
      "Note: you may need to restart the kernel to use updated packages.\n"
     ]
    }
   ],
   "source": [
    "%pip install -qU more_itertools"
   ]
  },
  {
   "cell_type": "markdown",
   "metadata": {},
   "source": [
    "## 1. State machine parser\n",
    "\n",
    "Because the outline structure is so simple, it's feasible to implement a parser using a hand-coded state machine that\n",
    "shifts between states according to the level of the outline. This may be a simpler approach than specifying a\n",
    "BNF-style grammar for Lark or a similar parser generator, because in some cases outlines skip levels, which would\n",
    "complicate the formal grammar."
   ]
  },
  {
   "cell_type": "code",
   "execution_count": 2,
   "metadata": {},
   "outputs": [],
   "source": [
    "from enum import Enum\n",
    "from typing import List, Dict, Iterator\n",
    "from dataclasses import dataclass, field\n",
    "import re"
   ]
  },
  {
   "cell_type": "code",
   "execution_count": 3,
   "metadata": {},
   "outputs": [],
   "source": [
    "class Level(Enum):\n",
    "    H0 = 0 # top level (initial state)\n",
    "    H1 = 1\n",
    "    H2 = 2\n",
    "    H3 = 3\n",
    "\n",
    "@dataclass\n",
    "class HeadingPattern:\n",
    "    level: Level\n",
    "    regex: str\n",
    "    multi_line: bool # whether the heading spans multiple lines\n",
    "\n",
    "@dataclass\n",
    "class Heading:\n",
    "    level: Level\n",
    "    # heading_type: str # e.g. \"section\", \"subsection\", \"article\", \"chapter\"\n",
    "    enumeration: str # number or letter (e.g. \"1\", \"a\", \"i\", \"A\", \"XVII\")\n",
    "    heading_text: str\n",
    "\n",
    "@dataclass\n",
    "class Segment:\n",
    "    level: Level\n",
    "    headings: Dict[Level, Heading|None] = field(default_factory=dict)\n",
    "    body: List[str] = field(default_factory=list) # list of paragraphs\n",
    "\n",
    "## For our purposes, a document is just a list of segments -- the structure is\n",
    "## implicit in the headings, which will be uploaded to a relational database"
   ]
  },
  {
   "cell_type": "code",
   "execution_count": 4,
   "metadata": {},
   "outputs": [],
   "source": [
    "def split_paragraph(paragraph: str) -> tuple[str, str]:\n",
    "    lines = paragraph.split('\\n', 1)\n",
    "    if len(lines) == 0:\n",
    "        return '', ''\n",
    "    first_line = lines[0]\n",
    "    rest_of_paragraph = lines[1] if len(lines) > 1 else ''\n",
    "    return first_line, rest_of_paragraph\n",
    "\n",
    "assert split_paragraph(\"\") == (\"\", \"\")\n",
    "assert split_paragraph(\"This is a\\nparagraph.\\n\") == (\"This is a\", \"paragraph.\\n\")"
   ]
  },
  {
   "cell_type": "code",
   "execution_count": 5,
   "metadata": {},
   "outputs": [],
   "source": [
    "\n",
    "def match_heading(paragraph: str, patterns: Dict[Level, HeadingPattern]) -> Heading | None:\n",
    "    \"\"\"For each patern in `patterns`, check if the paragraph matches (e.g., pattern r'^Chapter [IVXLC]+'\n",
    "    matches 'Chapter VII'). If a match is found, return a Heading object. Otherwise, return None.\"\"\"\n",
    "    \n",
    "    paragraph = paragraph.strip()\n",
    "\n",
    "    for level, pattern in patterns.items():\n",
    "        pattern_regex = re.compile(pattern.regex, re.DOTALL)\n",
    "        match = pattern_regex.match(paragraph)\n",
    "        if match:\n",
    "            if pattern.multi_line == False:\n",
    "                return Heading(level=level, enumeration=match.group(1), heading_text=match.group(2))\n",
    "            else:\n",
    "                _, rest = split_paragraph(paragraph)\n",
    "                return Heading(level=level, enumeration=match.group(1), heading_text=rest)"
   ]
  },
  {
   "cell_type": "code",
   "execution_count": 6,
   "metadata": {},
   "outputs": [],
   "source": [
    "## Tests\n",
    "test_doc1 = \"Chapter VII: The Final Chapter\"\n",
    "test_pattern1 = HeadingPattern(level=Level.H1, regex=r'^Chapter ([IVXLC]+): (.+)$', multi_line=False)\n",
    "\n",
    "test_doc2 = \"\\n\\nChapter 7:\\nThe Final Chapter\"\n",
    "test_pattern2 = HeadingPattern(level=Level.H1, regex=r'^Chapter (\\d+):', multi_line=True)\n",
    "\n",
    "assert match_heading(test_doc1, {Level.H1: test_pattern1}) == \\\n",
    "    Heading(level=Level.H1, enumeration=\"VII\", heading_text=\"The Final Chapter\")\n",
    "\n",
    "assert match_heading(test_doc2, {Level.H1: test_pattern2}) == \\\n",
    "    Heading(level=Level.H1, enumeration=\"7\", heading_text=\"The Final Chapter\")"
   ]
  },
  {
   "cell_type": "code",
   "execution_count": 7,
   "metadata": {},
   "outputs": [],
   "source": [
    "class StateMachineParser:\n",
    "    def __init__(self, document_name: str, heading_patterns: Dict[Level, HeadingPattern]):\n",
    "        self.document = []\n",
    "        self.heading_names = {Level.H0: document_name, Level.H1: None, Level.H2: None, Level.H3: None}\n",
    "        self.patterns = heading_patterns\n",
    "        self.state = Level.H0\n",
    "\n",
    "    def parse(self, text):\n",
    "        paragraphs = text.split('\\n\\n')\n",
    "\n",
    "        segment_headings = {Level.H0: self.heading_names[Level.H0]}\n",
    "        segment = Segment(level=Level.H0, headings=segment_headings, body=[]) # preamble\n",
    "\n",
    "        for paragraph in paragraphs:\n",
    "\n",
    "            match = match_heading(paragraph, self.patterns)\n",
    "\n",
    "            # no heading found, so add paragraph to the current segment\n",
    "            if not match:\n",
    "                segment.body.append(paragraph)\n",
    "                continue\n",
    "\n",
    "            # found a heading!\n",
    "            self.document.append(segment) # add the last segment to document\n",
    "\n",
    "            # print(f\"* New heading: {match}\")\n",
    "            self.state = match.level\n",
    "            new_headings = segment.headings.copy()\n",
    "            new_headings[match.level] = match\n",
    "            for level in Level: # have to delete the headings at higher levels in case of skips later\n",
    "                if level.value in new_headings and level.value > match.level.value:\n",
    "                    del new_headings[level]\n",
    "            segment = Segment(level=self.state, headings=new_headings, body=[]) # start a new segment\n",
    "    \n",
    "    def _str_segment(self, segment: Segment) -> str:\n",
    "        \n",
    "        heading = segment.headings[segment.level]\n",
    "        heading_str = f\"Heading {heading.level} {heading.enumeration}: {heading.heading_text}\" if heading else \"\"\n",
    "        return f\"{heading_str}\\n\\n{segment.body}\"\n",
    "\n",
    "    def __str__(self):\n",
    "        return \"\\n\\n\".join([self._str_segment(segment) for segment in self.document])\n"
   ]
  },
  {
   "cell_type": "markdown",
   "metadata": {},
   "source": [
    "## 2. Try it out"
   ]
  },
  {
   "cell_type": "code",
   "execution_count": 8,
   "metadata": {},
   "outputs": [],
   "source": [
    "snippet2 = \"\"\"\n",
    "preamble paragraph\n",
    "\n",
    "TITLE 1\n",
    "Title to 1\n",
    "\n",
    "Here is some text in 1\n",
    "Second line of the first paragraph in 1\n",
    "\n",
    "CHAPTER 1-1\n",
    "Chapter 1-1\n",
    "\n",
    "Here is some text in 1-1\n",
    "\n",
    "1-1-010 Section 1-1-010\n",
    "\n",
    "Here is some text in 1-1-010\n",
    "\n",
    "Second paragraph of 1-1-010\n",
    "\n",
    "1-1-020 Section 1-1-020\n",
    "\n",
    "Here is some text in 1-1-020\n",
    "\n",
    "Second paragraph of 1-1-020\n",
    "\n",
    "CHAPTER 1-2\n",
    "Chapter 1-2\n",
    "\n",
    "Here is some text in 1-2\n",
    "\n",
    "1-2-010 Section 1-2-010\n",
    "\n",
    "Here is some text in 1-2-010\n",
    "\n",
    "1-2-020 Section 1-2-020\n",
    "\n",
    "Here is some text in 1-2-020\n",
    "\n",
    "TITLE 2\n",
    "Title to 2\n",
    "\n",
    "Here is some text in 2\n",
    "\n",
    "\"\"\""
   ]
  },
  {
   "cell_type": "code",
   "execution_count": 9,
   "metadata": {},
   "outputs": [],
   "source": [
    "patterns = {\n",
    "    Level.H1: HeadingPattern(level=Level.H1, regex=r'^TITLE (\\d+)', multi_line=True),\n",
    "    Level.H2: HeadingPattern(level=Level.H2, regex=r'^CHAPTER (\\d+-\\d+)', multi_line=True),\n",
    "    Level.H3: HeadingPattern(level=Level.H3, regex=r'^(\\d+-\\d+-\\d+) (.+)', multi_line=False)\n",
    "}\n",
    "\n",
    "# TESTS: make sure the patterns are working\n",
    "title1 = \"TITLE 1\\nTitle to 1\\n\"\n",
    "chapter1_1 = \"CHAPTER 1-1\\nChapter 1-1\\n\"\n",
    "section1_1_010 = \"\\n1-1-010 Section 1-1-010\\n\"\n",
    "\n",
    "m = match_heading(title1, {Level.H1: patterns[Level.H1]})\n",
    "\n",
    "assert match_heading(title1, {Level.H1: patterns[Level.H1]}) == \\\n",
    "    Heading(level=Level.H1, enumeration=\"1\", heading_text=\"Title to 1\")\n",
    "assert match_heading(chapter1_1, {Level.H2: patterns[Level.H2]}) == \\\n",
    "    Heading(level=Level.H2, enumeration=\"1-1\", heading_text=\"Chapter 1-1\")\n",
    "assert match_heading(section1_1_010, {Level.H3: patterns[Level.H3]}) == \\\n",
    "    Heading(level=Level.H3, enumeration=\"1-1-010\", heading_text=\"Section 1-1-010\")"
   ]
  },
  {
   "cell_type": "code",
   "execution_count": 10,
   "metadata": {},
   "outputs": [],
   "source": [
    "# parse the whole snippet\n",
    "parser = StateMachineParser(\"snippet2\", patterns)\n",
    "parser.parse(snippet2)"
   ]
  },
  {
   "cell_type": "code",
   "execution_count": 11,
   "metadata": {},
   "outputs": [
    {
     "name": "stdout",
     "output_type": "stream",
     "text": [
      "Segment(level=<Level.H0: 0>, headings={<Level.H0: 0>: 'snippet2'}, body=['\\npreamble paragraph'])\n",
      "\n",
      "Segment(level=<Level.H1: 1>, headings={<Level.H0: 0>: 'snippet2', <Level.H1: 1>: Heading(level=<Level.H1: 1>, enumeration='1', heading_text='Title to 1')}, body=['Here is some text in 1\\nSecond line of the first paragraph in 1'])\n",
      "\n",
      "Segment(level=<Level.H2: 2>, headings={<Level.H0: 0>: 'snippet2', <Level.H1: 1>: Heading(level=<Level.H1: 1>, enumeration='1', heading_text='Title to 1'), <Level.H2: 2>: Heading(level=<Level.H2: 2>, enumeration='1-1', heading_text='Chapter 1-1')}, body=['Here is some text in 1-1'])\n",
      "\n",
      "Segment(level=<Level.H3: 3>, headings={<Level.H0: 0>: 'snippet2', <Level.H1: 1>: Heading(level=<Level.H1: 1>, enumeration='1', heading_text='Title to 1'), <Level.H2: 2>: Heading(level=<Level.H2: 2>, enumeration='1-1', heading_text='Chapter 1-1'), <Level.H3: 3>: Heading(level=<Level.H3: 3>, enumeration='1-1-010', heading_text='Section 1-1-010')}, body=['Here is some text in 1-1-010', 'Second paragraph of 1-1-010'])\n",
      "\n",
      "Segment(level=<Level.H3: 3>, headings={<Level.H0: 0>: 'snippet2', <Level.H1: 1>: Heading(level=<Level.H1: 1>, enumeration='1', heading_text='Title to 1'), <Level.H2: 2>: Heading(level=<Level.H2: 2>, enumeration='1-1', heading_text='Chapter 1-1'), <Level.H3: 3>: Heading(level=<Level.H3: 3>, enumeration='1-1-020', heading_text='Section 1-1-020')}, body=['Here is some text in 1-1-020', 'Second paragraph of 1-1-020'])\n",
      "\n",
      "Segment(level=<Level.H2: 2>, headings={<Level.H0: 0>: 'snippet2', <Level.H1: 1>: Heading(level=<Level.H1: 1>, enumeration='1', heading_text='Title to 1'), <Level.H2: 2>: Heading(level=<Level.H2: 2>, enumeration='1-2', heading_text='Chapter 1-2'), <Level.H3: 3>: Heading(level=<Level.H3: 3>, enumeration='1-1-020', heading_text='Section 1-1-020')}, body=['Here is some text in 1-2'])\n",
      "\n",
      "Segment(level=<Level.H3: 3>, headings={<Level.H0: 0>: 'snippet2', <Level.H1: 1>: Heading(level=<Level.H1: 1>, enumeration='1', heading_text='Title to 1'), <Level.H2: 2>: Heading(level=<Level.H2: 2>, enumeration='1-2', heading_text='Chapter 1-2'), <Level.H3: 3>: Heading(level=<Level.H3: 3>, enumeration='1-2-010', heading_text='Section 1-2-010')}, body=['Here is some text in 1-2-010'])\n",
      "\n",
      "Segment(level=<Level.H3: 3>, headings={<Level.H0: 0>: 'snippet2', <Level.H1: 1>: Heading(level=<Level.H1: 1>, enumeration='1', heading_text='Title to 1'), <Level.H2: 2>: Heading(level=<Level.H2: 2>, enumeration='1-2', heading_text='Chapter 1-2'), <Level.H3: 3>: Heading(level=<Level.H3: 3>, enumeration='1-2-020', heading_text='Section 1-2-020')}, body=['Here is some text in 1-2-020'])\n",
      "\n"
     ]
    }
   ],
   "source": [
    "for s in parser.document:\n",
    "    print(s)\n",
    "    print()"
   ]
  }
 ],
 "metadata": {
  "kernelspec": {
   "display_name": "venv",
   "language": "python",
   "name": "python3"
  },
  "language_info": {
   "codemirror_mode": {
    "name": "ipython",
    "version": 3
   },
   "file_extension": ".py",
   "mimetype": "text/x-python",
   "name": "python",
   "nbconvert_exporter": "python",
   "pygments_lexer": "ipython3",
   "version": "3.12.7"
  }
 },
 "nbformat": 4,
 "nbformat_minor": 2
}
